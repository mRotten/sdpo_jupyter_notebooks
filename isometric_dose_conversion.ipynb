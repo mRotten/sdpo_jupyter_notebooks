{
 "cells": [
  {
   "cell_type": "code",
   "execution_count": 1,
   "metadata": {},
   "outputs": [],
   "source": [
    "km_lut = {'mouse': 3.0,\n",
    "          'rat': 5.9,\n",
    "          'monkey': 12,\n",
    "          'dog': 20,\n",
    "          'human': 37}\n",
    "\n",
    "wt_lut = {'mouse': 0.020,\n",
    "          'rat': 0.250,    # changed from 0.150 to 0.250\n",
    "          'monkey': 3,\n",
    "          'dog': 8,\n",
    "          'human': 60}\n",
    "\n",
    "sa_lut = {'mouse': 0.0066,\n",
    "          'rat': 0.025,\n",
    "          'monkey': 0.24,\n",
    "          'dog': 0.4,\n",
    "          'human': 1.6}"
   ]
  },
  {
   "cell_type": "code",
   "execution_count": 2,
   "metadata": {},
   "outputs": [],
   "source": [
    "def get_eq_dose(from_species, from_dose_mgkg, to_species):\n",
    "    from_km = km_lut[from_species]\n",
    "    to_km = km_lut[to_species]\n",
    "    return (from_dose_mgkg * from_km) / to_km\n",
    "\n",
    "def get_per_m2_dose(dose, species):\n",
    "    return dose * km_lut[species]"
   ]
  },
  {
   "cell_type": "code",
   "execution_count": 7,
   "metadata": {
    "scrolled": false
   },
   "outputs": [
    {
     "name": "stdout",
     "output_type": "stream",
     "text": [
      "300 mg/kg administered to a dog is equivalent to 2000.0 mg/kg administered to a mouse.\n",
      "\n",
      "This corresponds to a mouse dose of 40.0 mg.\n"
     ]
    }
   ],
   "source": [
    "from_species = 'dog'\n",
    "from_dose = 300\n",
    "to_species = 'mouse'\n",
    "\n",
    "eq_dose = round(get_eq_dose(from_species, from_dose, to_species), 1)\n",
    "print(f'{from_dose} mg/kg administered to a {from_species} is equivalent to {eq_dose} mg/kg administered to a {to_species}.')\n",
    "print(f'\\nThis corresponds to a {to_species} dose of {eq_dose * wt_lut[to_species]} mg.')"
   ]
  },
  {
   "cell_type": "code",
   "execution_count": 4,
   "metadata": {},
   "outputs": [
    {
     "data": {
      "text/plain": [
       "5.666666666666667"
      ]
     },
     "execution_count": 4,
     "metadata": {},
     "output_type": "execute_result"
    }
   ],
   "source": [
    "340/60"
   ]
  },
  {
   "cell_type": "code",
   "execution_count": 5,
   "metadata": {},
   "outputs": [
    {
     "data": {
      "text/plain": [
       "20000"
      ]
     },
     "execution_count": 5,
     "metadata": {},
     "output_type": "execute_result"
    }
   ],
   "source": [
    "get_per_m2_dose(1000, 'dog')"
   ]
  },
  {
   "cell_type": "code",
   "execution_count": null,
   "metadata": {},
   "outputs": [],
   "source": []
  }
 ],
 "metadata": {
  "kernelspec": {
   "display_name": "Python 3",
   "language": "python",
   "name": "python3"
  },
  "language_info": {
   "codemirror_mode": {
    "name": "ipython",
    "version": 3
   },
   "file_extension": ".py",
   "mimetype": "text/x-python",
   "name": "python",
   "nbconvert_exporter": "python",
   "pygments_lexer": "ipython3",
   "version": "3.8.8"
  }
 },
 "nbformat": 4,
 "nbformat_minor": 2
}
