{
 "cells": [
  {
   "cell_type": "markdown",
   "metadata": {},
   "source": [
    "# Tox Program TA/API Requirements"
   ]
  },
  {
   "cell_type": "code",
   "execution_count": 1,
   "metadata": {},
   "outputs": [],
   "source": [
    "# Functions:\n",
    "def calc_required_test_article(species, group_size, doses, duration, frequency):\n",
    "    try:\n",
    "        assert species in ('mouse', 'rat', 'dog')\n",
    "    except AssertionError:\n",
    "        print(\"Species must be mouse, rat, or dog.\")\n",
    "        return\n",
    "    try:\n",
    "        assert type(group_size) == int and group_size > 0\n",
    "    except AssertionError:\n",
    "        print(\"Group size must be a positive non-zero integer.\")\n",
    "        return\n",
    "    try:\n",
    "        assert type(doses) in (list, tuple)\n",
    "    except AssertionError:\n",
    "        print(\"Group size must be a list or tuple.\")\n",
    "        return\n",
    "    try:\n",
    "        assert frequency in ('QD', 'BID')\n",
    "    except AssertionError:\n",
    "        print(\"Frequency must be QD or BID.\")\n",
    "        return\n",
    "    try:\n",
    "        assert type(duration) == int\n",
    "    except AssertionError:\n",
    "        print(\"Duration must be a positive non-zero integer.\")\n",
    "        return\n",
    "\n",
    "    num_daily = {'QD': 1, 'BID': 2}[frequency]\n",
    "    anim_wt = {'mouse': 0.033, 'rat': 0.275, 'dog': 10}[species]\n",
    "    group_dose_count = group_size * num_daily * duration\n",
    "    ta_req = [anim_wt * group_dose_count * dose for dose in doses]\n",
    "\n",
    "    return sum(ta_req)\n",
    "\n",
    "def plural(animal):\n",
    "    return {'mouse': 'mice', 'dog': 'dogs', 'rat': 'rats'}[animal]"
   ]
  },
  {
   "cell_type": "markdown",
   "metadata": {},
   "source": [
    "## 1. MTD Studies"
   ]
  },
  {
   "cell_type": "markdown",
   "metadata": {},
   "source": [
    "Typical MTD Studies:\n",
    "    \n",
    "    Mice: group size == 58\n",
    "    \n",
    "        5/sex/group for tox (10 total mice per group)\n",
    "        \n",
    "        3/sex/dose/timepoint for TK (8 timepoints requires (3*2) * 8 = 48 total mice per group)\n",
    "        \n",
    "    Rats: group size == 18\n",
    "    \n",
    "        3/sex/group for tox (6 total rats per group)\n",
    "        \n",
    "        3/sex/group/(4 timepoints) for TK (8 timpoints requires (3*2) * (8/4) = 12 total rats per group)"
   ]
  },
  {
   "cell_type": "markdown",
   "metadata": {},
   "source": [
    "### Mouse MTD Requirements"
   ]
  },
  {
   "cell_type": "code",
   "execution_count": 2,
   "metadata": {},
   "outputs": [
    {
     "name": "stdout",
     "output_type": "stream",
     "text": [
      "A single-dose mouse MTD will require:\n",
      "    Total Test Article: 2.2 grams\n",
      "    Total Animal Count: 184 animals\n"
     ]
    }
   ],
   "source": [
    "# Parameters:\n",
    "duration = 1\n",
    "frequency = 'QD'\n",
    "species = 'mouse'\n",
    "group_size = 46\n",
    "doses = (30, 100, 300, 1000)\n",
    "\n",
    "# Calculation:\n",
    "ta_req = calc_required_test_article(species, group_size, doses, duration, frequency)\n",
    "print(f'A single-dose {species} MTD will require:')\n",
    "print(f'    Total Test Article: {round(ta_req/1000, 1)} grams')\n",
    "print(f'    Total Animal Count: {len(doses) * group_size} animals')"
   ]
  },
  {
   "cell_type": "markdown",
   "metadata": {},
   "source": [
    "### Rat MTD Requirements"
   ]
  },
  {
   "cell_type": "code",
   "execution_count": 3,
   "metadata": {},
   "outputs": [
    {
     "name": "stdout",
     "output_type": "stream",
     "text": [
      "A single-dose rat MTD will require:\n",
      "    Total Test Article: 7.1 grams\n",
      "    Total Animal Count: 72 animals\n"
     ]
    }
   ],
   "source": [
    "# Parameters:\n",
    "duration = 1\n",
    "frequency = 'QD'\n",
    "species = 'rat'\n",
    "group_size = 18\n",
    "doses = (30, 100, 300, 1000)\n",
    "\n",
    "# Calculation:\n",
    "ta_req = calc_required_test_article(species, group_size, doses, duration, frequency)\n",
    "print(f'A single-dose {species} MTD will require:')\n",
    "print(f'    Total Test Article: {round(ta_req/1000, 1)} grams')\n",
    "print(f'    Total Animal Count: {len(doses) * group_size} animals')"
   ]
  },
  {
   "cell_type": "markdown",
   "metadata": {},
   "source": [
    "### Dog MTD Requirements"
   ]
  },
  {
   "cell_type": "code",
   "execution_count": 4,
   "metadata": {},
   "outputs": [
    {
     "name": "stdout",
     "output_type": "stream",
     "text": [
      "A single-dose dog MTD will require:\n",
      "    Total Test Article: 8.8 grams\n",
      "    Total Animal Count: 8 animals\n"
     ]
    }
   ],
   "source": [
    "# Parameters:\n",
    "duration = 1\n",
    "frequency = 'QD'\n",
    "species = 'dog'\n",
    "group_size = 2\n",
    "doses = (10, 30, 100, 300)\n",
    "\n",
    "# Calculation:\n",
    "ta_req = calc_required_test_article(species, group_size, doses, duration, frequency)\n",
    "print(f'A single-dose {species} MTD will require:')\n",
    "print(f'    Total Test Article: {round(ta_req/1000, 1)} grams')\n",
    "print(f'    Total Animal Count: {len(doses) * group_size} animals')"
   ]
  },
  {
   "cell_type": "markdown",
   "metadata": {},
   "source": [
    "## 2. Salt PK Study in Dogs"
   ]
  },
  {
   "cell_type": "code",
   "execution_count": 5,
   "metadata": {
    "scrolled": true
   },
   "outputs": [
    {
     "name": "stdout",
     "output_type": "stream",
     "text": [
      "The salt/PK study in dogs will require:\n",
      "    Total Test Article: 0.2 grams (each salt form)\n",
      "    Total Animal Count: 2 animals (each salt form)\n"
     ]
    }
   ],
   "source": [
    "# Parameters:\n",
    "duration = 1\n",
    "frequency = 'QD'\n",
    "species = 'dog'\n",
    "group_size = 2\n",
    "doses = (10,)\n",
    "\n",
    "# Calculation:\n",
    "ta_req = calc_required_test_article(species, group_size, doses, duration, frequency)\n",
    "print(f'The salt/PK study in {plural(species)} will require:')\n",
    "print(f'    Total Test Article: {round(ta_req/1000, 4)} grams (each salt form)')\n",
    "print(f'    Total Animal Count: {group_size} animals (each salt form)')"
   ]
  },
  {
   "cell_type": "markdown",
   "metadata": {},
   "source": [
    "# 3. 14-Day Studies"
   ]
  },
  {
   "cell_type": "markdown",
   "metadata": {},
   "source": [
    "### Rat 14-Day Study Requirement"
   ]
  },
  {
   "cell_type": "code",
   "execution_count": 6,
   "metadata": {},
   "outputs": [
    {
     "name": "stdout",
     "output_type": "stream",
     "text": [
      "A 14-Day study in rats will require 225.3 grams.\n"
     ]
    }
   ],
   "source": [
    "# Parameters:\n",
    "duration = 14\n",
    "frequency = 'BID'\n",
    "species = 'rat'\n",
    "group_size = 44\n",
    "doses = (15, 150, 500)\n",
    "\n",
    "# Calculation:\n",
    "ta_req = calc_required_test_article(species, group_size, doses, duration, frequency)\n",
    "print(f'A 14-Day study in {plural(species)} will require {round(ta_req/1000, 2)} grams.')"
   ]
  },
  {
   "cell_type": "markdown",
   "metadata": {},
   "source": [
    "### Mouse 14-Day Study Requirement"
   ]
  },
  {
   "cell_type": "code",
   "execution_count": 7,
   "metadata": {},
   "outputs": [
    {
     "name": "stdout",
     "output_type": "stream",
     "text": [
      "The mouse 14-Day study will require 21.9 grams.\n"
     ]
    }
   ],
   "source": [
    "# Parameters:\n",
    "duration = 14\n",
    "frequency = 'QD'\n",
    "species = 'mouse'\n",
    "group_size = 110\n",
    "doses = (30, 100, 300)\n",
    "\n",
    "# Calculation:\n",
    "ta_req = calc_required_test_article(species, group_size, doses, duration, frequency)\n",
    "print(f'The {species} 14-Day study will require {round(ta_req/1000, 1)} grams.')"
   ]
  },
  {
   "cell_type": "markdown",
   "metadata": {},
   "source": [
    "### Dog 14-Day Study Requirement"
   ]
  },
  {
   "cell_type": "code",
   "execution_count": 8,
   "metadata": {},
   "outputs": [
    {
     "name": "stdout",
     "output_type": "stream",
     "text": [
      "The dog 14-Day study will require 240.8 grams.\n"
     ]
    }
   ],
   "source": [
    "# Parameters:\n",
    "duration = 14\n",
    "frequency = 'QD'\n",
    "species = 'dog'\n",
    "group_size = 4\n",
    "doses = (30, 100, 300)\n",
    "\n",
    "# Calculation:\n",
    "ta_req = calc_required_test_article(species, group_size, doses, duration, frequency)\n",
    "print(f'The {species} 14-Day study will require {round(ta_req/1000, 1)} grams.')"
   ]
  },
  {
   "cell_type": "markdown",
   "metadata": {},
   "source": [
    "## 4. 28-Day GLP Studies"
   ]
  },
  {
   "cell_type": "markdown",
   "metadata": {},
   "source": [
    "### Rat 28-Day GLP Study Requirement"
   ]
  },
  {
   "cell_type": "code",
   "execution_count": 9,
   "metadata": {},
   "outputs": [
    {
     "name": "stdout",
     "output_type": "stream",
     "text": [
      "The rat 28-Day GLP study will require 646.8 grams.\n",
      "With 20% overage: 776.16 grams\n"
     ]
    }
   ],
   "source": [
    "# Parameters:\n",
    "duration = 28\n",
    "frequency = 'QD'\n",
    "species = 'rat'\n",
    "group_size = 60\n",
    "doses = (100, 300, 1000)\n",
    "\n",
    "# Calculation:\n",
    "ta_req = calc_required_test_article(species, group_size, doses, duration, frequency)\n",
    "exact = round(ta_req/1000, 1)\n",
    "plus_20 = exact * 1.2\n",
    "print(f'The {species} 28-Day GLP study will require {exact} grams.')\n",
    "print(f'With 20% overage: {plus_20} grams')"
   ]
  },
  {
   "cell_type": "markdown",
   "metadata": {},
   "source": [
    "### Dog 28-Day GLP Study Requirement"
   ]
  },
  {
   "cell_type": "code",
   "execution_count": 10,
   "metadata": {},
   "outputs": [
    {
     "name": "stdout",
     "output_type": "stream",
     "text": [
      "The dog 28-Day GLP study will require 3920.0 grams.\n",
      "With 20% overage: 4704.0 grams\n"
     ]
    }
   ],
   "source": [
    "# Parameters:\n",
    "duration = 28\n",
    "frequency = 'QD'\n",
    "species = 'dog'\n",
    "group_size = 10\n",
    "doses = (100, 300, 1000)\n",
    "\n",
    "# Calculation:\n",
    "ta_req = calc_required_test_article(species, group_size, doses, duration, frequency)\n",
    "exact = round(ta_req/1000, 1)\n",
    "plus_20 = exact * 1.2\n",
    "print(f'The {species} 28-Day GLP study will require {exact} grams.')\n",
    "print(f'With 20% overage: {plus_20} grams')"
   ]
  },
  {
   "cell_type": "markdown",
   "metadata": {},
   "source": [
    "### Generic Efficacy Study"
   ]
  },
  {
   "cell_type": "code",
   "execution_count": 11,
   "metadata": {},
   "outputs": [
    {
     "name": "stdout",
     "output_type": "stream",
     "text": [
      "One mouse efficacy study will require 0.156 grams.\n"
     ]
    }
   ],
   "source": [
    "# Parameters:\n",
    "duration = 21\n",
    "frequency = 'QD'\n",
    "species = 'mouse'\n",
    "group_size = 10\n",
    "doses = (7.5, 7.5, 7.5)\n",
    "\n",
    "# Calculation:\n",
    "ta_req = calc_required_test_article(species, group_size, doses, duration, frequency)\n",
    "print(f'One {species} efficacy study will require {round(ta_req/1000, 3)} grams.')"
   ]
  },
  {
   "cell_type": "code",
   "execution_count": null,
   "metadata": {},
   "outputs": [],
   "source": []
  }
 ],
 "metadata": {
  "kernelspec": {
   "display_name": "Python 3",
   "language": "python",
   "name": "python3"
  },
  "language_info": {
   "codemirror_mode": {
    "name": "ipython",
    "version": 3
   },
   "file_extension": ".py",
   "mimetype": "text/x-python",
   "name": "python",
   "nbconvert_exporter": "python",
   "pygments_lexer": "ipython3",
   "version": "3.8.8"
  }
 },
 "nbformat": 4,
 "nbformat_minor": 2
}
